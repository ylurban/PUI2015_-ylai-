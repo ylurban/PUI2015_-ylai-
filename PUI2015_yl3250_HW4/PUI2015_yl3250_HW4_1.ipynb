{
 "cells": [
  {
   "cell_type": "markdown",
   "metadata": {
    "collapsed": true
   },
   "source": [
    "# PUI HW 4\n",
    "### Assignment 1:\n",
    "Test if the distribution of ages is the same for \n",
    "    \n",
    " 1) male and femal riders\n",
    "    \n",
    " 2) day and night riders\n",
    "    \n",
    " use 3 tests: KS, Pearson's, Spearman's"
   ]
  },
  {
   "cell_type": "markdown",
   "metadata": {},
   "source": [
    "###  1) male and femal riders:"
   ]
  },
  {
   "cell_type": "code",
   "execution_count": 14,
   "metadata": {
    "collapsed": false,
    "scrolled": true
   },
   "outputs": [
    {
     "name": "stdout",
     "output_type": "stream",
     "text": [
      "Populating the interactive namespace from numpy and matplotlib\n"
     ]
    }
   ],
   "source": [
    "# Import ralevant modouls. \n",
    "import pylab as pl\n",
    "import pandas as pd\n",
    "import numpy as np\n",
    "%pylab inline\n",
    "\n",
    "import os\n",
    "import json\n",
    "s = json.load( open(os.getenv ('PUI2015')+\"/ylai_matplotlibrc.json\") )\n",
    "pl.rcParams.update(s)\n"
   ]
  },
  {
   "cell_type": "markdown",
   "metadata": {},
   "source": [
    "In this study I'm using data from July 2015. It would be a good idea to use data from warmer months, since there are more riders in the warm weather and the more data the smaller the STATISTICAL NOISE. "
   ]
  },
  {
   "cell_type": "code",
   "execution_count": 15,
   "metadata": {
    "collapsed": false,
    "scrolled": false
   },
   "outputs": [
    {
     "name": "stdout",
     "output_type": "stream",
     "text": [
      "Index([u'tripduration', u'starttime', u'stoptime', u'start station id',\n",
      "       u'start station name', u'start station latitude',\n",
      "       u'start station longitude', u'end station id', u'end station name',\n",
      "       u'end station latitude', u'end station longitude', u'bikeid',\n",
      "       u'usertype', u'birth year', u'gender'],\n",
      "      dtype='object')\n"
     ]
    }
   ],
   "source": [
    "df=pd.read_csv(os.getenv ('PUI2015')+'/data/201507-citibike-tripdata.csv')\n",
    "print df.columns"
   ]
  },
  {
   "cell_type": "markdown",
   "metadata": {},
   "source": [
    "###BY GENDER\n",
    "Splitting data by gender and extracting the age happens in the cell below."
   ]
  },
  {
   "cell_type": "code",
   "execution_count": 16,
   "metadata": {
    "collapsed": true
   },
   "outputs": [],
   "source": [
    "#df is the dataframe where the content of the csv file is stored. \n",
    "#Since only subscribers have data of age, therefore we will use the data by subscribers only.\n",
    "df['ageM'] = 2015-df['birth year'][(df['usertype'] == 'Subscriber') & (df['gender'] == 1)]\n",
    "df['ageF'] = 2015-df['birth year'][(df['usertype'] == 'Subscriber') & (df['gender'] == 2)]"
   ]
  },
  {
   "cell_type": "markdown",
   "metadata": {},
   "source": [
    "Now we split age in 10 year bins. The dataset is very large, so i could be split in smaller bins, but I will chose 10 years in the interest of time. If i was to do this \"for real\" the bin size choice should be a balance between properly sample the age space, have enough counts in each bin that the statistical noise is not significant (remember that is > sqrt(N)!) and the computational requirement to computatinal facilities ratio. "
   ]
  },
  {
   "cell_type": "markdown",
   "metadata": {},
   "source": [
    "The next several steps are needed if you want to code up the KS test from scratch. That is for extra credit, so if you do not want to do it you may not need to plot split the distribution in bins and create the cumulative HOWEVER it is a great idea to do it anyways to explore your data viaually! Remember Ascombe's quartet!!"
   ]
  },
  {
   "cell_type": "code",
   "execution_count": 17,
   "metadata": {
    "collapsed": false
   },
   "outputs": [
    {
     "data": {
      "text/plain": [
       "<matplotlib.axes._subplots.AxesSubplot at 0x10a523390>"
      ]
     },
     "execution_count": 17,
     "metadata": {},
     "output_type": "execute_result"
    },
    {
     "data": {
      "image/png": "[encoded data removed]",
      "text/plain": [
       "<matplotlib.figure.Figure at 0x10c9358d0>"
      ]
     },
     "metadata": {},
     "output_type": "display_data"
    },
    {
     "data": {
      "image/png": "[encoded data removed]",
      "text/plain": [
       "<matplotlib.figure.Figure at 0x10b8a09d0>"
      ]
     },
     "metadata": {},
     "output_type": "display_data"
    }
   ],
   "source": [
    "bins = np.arange(10, 99, 10)\n",
    "df.ageM.groupby(pd.cut(df.ageM, bins)).agg([count_nonzero]).plot(kind='bar')\n",
    "df.ageF.groupby(pd.cut(df.ageF, bins)).agg([count_nonzero]).plot(kind='bar')"
   ]
  },
  {
   "cell_type": "markdown",
   "metadata": {},
   "source": [
    "This is how the cumulative distributions look like.  Notice that I am normalizing them! If i want to reat an observed distribution like a probablility distribution i have to normalize it"
   ]
  },
  {
   "cell_type": "code",
   "execution_count": 18,
   "metadata": {
    "collapsed": false,
    "scrolled": false
   },
   "outputs": [
    {
     "name": "stdout",
     "output_type": "stream",
     "text": [
      "          count_nonzero\n",
      "ageM                   \n",
      "(10, 20]       0.000753\n",
      "(20, 30]       0.072901\n",
      "(30, 40]       0.063428\n",
      "(40, 50]       0.020371\n",
      "(50, 60]       0.014432\n",
      "(60, 70]       0.002502\n",
      "(70, 80]       0.000320\n",
      "(80, 90]       0.000000\n"
     ]
    },
    {
     "data": {
      "text/plain": [
       "<matplotlib.legend.Legend at 0x10a53a1d0>"
      ]
     },
     "execution_count": 18,
     "metadata": {},
     "output_type": "execute_result"
    },
    {
     "data": {
      "image/png": "[encoded data removed]",
      "text/plain": [
       "<matplotlib.figure.Figure at 0x10aee4c10>"
      ]
     },
     "metadata": {},
     "output_type": "display_data"
    }
   ],
   "source": [
    "#print df.ageS, df.ageS.cumsum()\n",
    "\n",
    "csM=df.ageM.groupby(pd.cut(df.ageM, bins)).agg([count_nonzero]).cumsum()\n",
    "\n",
    "csF=df.ageF.groupby(pd.cut(df.ageF, bins)).agg([count_nonzero]).cumsum()\n",
    "\n",
    "print np.abs(csM / csM.max()-csF / csF.max())\n",
    "\n",
    "pl.plot(bins[:-1] + 5, csM / csM.max(), label = \"M\")\n",
    "pl.plot(bins[:-1] + 5, csF / csF.max(), label = \"F\")\n",
    "pl.legend()"
   ]
  },
  {
   "cell_type": "markdown",
   "metadata": {},
   "source": [
    "They look pretty darn similar! That sets my expectation for the tests to come. If I wanted to code the KS test by hand i woud have everything i need: the normalized cumulative distributions can be subtracted from each other and the max distance can be seeked. \n",
    "\n",
    "Notice that there amay be Nan values you are gonna have to deal with! you can do that for example with a Boolean statementsuch as  df.ageF[~np.isnan(df.ageF)] or you can use numpy functions that deal with Nan values: nansum, nanmean, nanstd..."
   ]
  },
  {
   "cell_type": "markdown",
   "metadata": {},
   "source": [
    "Lets run the scipy KS test"
   ]
  },
  {
   "cell_type": "markdown",
   "metadata": {
    "collapsed": true
   },
   "source": [
    "#KS tests to compare 2 samples\n",
    "\n",
    "http://docs.scipy.org/doc/scipy-0.15.1/reference/generated/scipy.stats.ks_2samp.html\n"
   ]
  },
  {
   "cell_type": "code",
   "execution_count": 19,
   "metadata": {
    "collapsed": true
   },
   "outputs": [],
   "source": [
    "import scipy.stats"
   ]
  },
  {
   "cell_type": "code",
   "execution_count": 20,
   "metadata": {
    "collapsed": false
   },
   "outputs": [],
   "source": [
    "ks=scipy.stats.ks_2samp(df.ageM, df.ageF)"
   ]
  },
  {
   "cell_type": "markdown",
   "metadata": {},
   "source": [
    "Remember: the Null hypothesis is rejected if \n",
    "\n",
    "$D_KS(n1,n2) > c(\\alpha) \\sqrt{\\frac{(n1+n2)}{n1n2}}$\n",
    "\n",
    "where $c(\\alpha$) is the inverse of the KS distribution, and you do not have to know how to get that cause there are tables that list critical values!! \n",
    "\n",
    "http://www.real-statistics.com/tests-normality-and-symmetry/statistical-tests-normality-symmetry/kolmogorov-smirnov-test/kolmogorov-distribution/\n",
    "\n",
    "But scipy is already giving you the p-value, so you do not have to worry about it I am still giving you the table FWI and if you want to do the coding of the KS test by hand.\n"
   ]
  },
  {
   "cell_type": "code",
   "execution_count": 21,
   "metadata": {
    "collapsed": false
   },
   "outputs": [],
   "source": [
    "#here is the critical values tablel. Have you chosen your significance level yet?? you should do it first thing!\n",
    "from IPython.display import Image\n",
    "#Image(filename=\"ks2sample_table.png\")"
   ]
  },
  {
   "cell_type": "code",
   "execution_count": 22,
   "metadata": {
    "collapsed": false
   },
   "outputs": [
    {
     "name": "stdout",
     "output_type": "stream",
     "text": [
      "(0.43313198412786136, 0.0)\n"
     ]
    }
   ],
   "source": [
    "##This cell is for you to tell me what the scipy KS test returned and what it means\n",
    "print ks"
   ]
  },
  {
   "cell_type": "markdown",
   "metadata": {},
   "source": [
    "#Pearson's  test for correlation\n",
    "\n",
    "http://docs.scipy.org/doc/scipy/reference/generated/scipy.stats.pearsonr.html#scipy.stats.pearsonr\n",
    "\n"
   ]
  },
  {
   "cell_type": "code",
   "execution_count": 23,
   "metadata": {
    "collapsed": false
   },
   "outputs": [
    {
     "data": {
      "text/plain": [
       "(nan, 1.0)"
      ]
     },
     "execution_count": 23,
     "metadata": {},
     "output_type": "execute_result"
    }
   ],
   "source": [
    "#please perform the Pearson's test and tell me what you find.\n",
    "scipy.stats.pearsonr(df.ageM, df.ageF)"
   ]
  },
  {
   "cell_type": "markdown",
   "metadata": {},
   "source": [
    "#Spearman's  test for correlation\n",
    "\n",
    "http://docs.scipy.org/doc/scipy/reference/generated/scipy.stats.spearmanr.html#scipy.stats.spearmanr"
   ]
  },
  {
   "cell_type": "code",
   "execution_count": 24,
   "metadata": {
    "collapsed": false
   },
   "outputs": [
    {
     "data": {
      "text/plain": [
       "(-0.36204402355786297, 0.0)"
      ]
     },
     "execution_count": 24,
     "metadata": {},
     "output_type": "execute_result"
    }
   ],
   "source": [
    "#Please perform the Spearman's test and tell me what you find.\n",
    "scipy.stats.spearmanr(df.ageM, df.ageF, axis=0)"
   ]
  },
  {
   "cell_type": "markdown",
   "metadata": {},
   "source": [
    "##please comment on the numbers that you get in the light of the scipy manual: what is rerutned? what does it mean??"
   ]
  },
  {
   "cell_type": "markdown",
   "metadata": {
    "collapsed": true
   },
   "source": [
    " ### 2) day and night riders\n",
    "\n"
   ]
  },
  {
   "cell_type": "code",
   "execution_count": 27,
   "metadata": {
    "collapsed": false
   },
   "outputs": [
    {
     "data": {
      "text/plain": [
       "0    7/1/2015 00:00:03\n",
       "1    7/1/2015 00:00:06\n",
       "2    7/1/2015 00:00:17\n",
       "3    7/1/2015 00:00:23\n",
       "4    7/1/2015 00:00:44\n",
       "Name: starttime, dtype: object"
      ]
     },
     "execution_count": 27,
     "metadata": {},
     "output_type": "execute_result"
    }
   ],
   "source": [
    "df.starttime[:5]"
   ]
  },
  {
   "cell_type": "code",
   "execution_count": 30,
   "metadata": {
    "collapsed": false
   },
   "outputs": [
    {
     "data": {
      "text/plain": [
       "0   2015-07-01 00:00:03\n",
       "1   2015-07-01 00:00:06\n",
       "2   2015-07-01 00:00:17\n",
       "3   2015-07-01 00:00:23\n",
       "4   2015-07-01 00:00:44\n",
       "Name: time, dtype: datetime64[ns]"
      ]
     },
     "execution_count": 30,
     "metadata": {},
     "output_type": "execute_result"
    }
   ],
   "source": [
    "#Re-format start time column as a new column named as \"mystarttime\". \n",
    "df['time'] = pd.to_datetime(df['starttime'])\n",
    "df.time[:5]"
   ]
  },
  {
   "cell_type": "code",
   "execution_count": 32,
   "metadata": {
    "collapsed": false
   },
   "outputs": [],
   "source": [
    "#df is the dataframe where the content of the csv file is stored. \n",
    "#Since only subscribers have data of age, therefore we will use the data by subscribers only.\n",
    "#In this study, we define day time as 6am-6pm (6-18) and else as night time. \n",
    "df['age_day'] = 2015-df['birth year'][(df['usertype'] == 'Subscriber') & (df['time'].dt.hour>=6) & (df['time'].dt.hour<18)]\n",
    "df['age_night'] = 2015-df['birth year'][(df['usertype'] == 'Subscriber') & (df['time'].dt.hour>=18)|(df['time'].dt.hour<6)]"
   ]
  },
  {
   "cell_type": "code",
   "execution_count": 34,
   "metadata": {
    "collapsed": false
   },
   "outputs": [
    {
     "data": {
      "text/plain": [
       "<matplotlib.axes._subplots.AxesSubplot at 0x10ccfa310>"
      ]
     },
     "execution_count": 34,
     "metadata": {},
     "output_type": "execute_result"
    },
    {
     "data": {
      "image/png": "[encoded data removed]",
      "text/plain": [
       "<matplotlib.figure.Figure at 0x10d233f10>"
      ]
     },
     "metadata": {},
     "output_type": "display_data"
    },
    {
     "data": {
      "image/png": "[encoded data removed]",
      "text/plain": [
       "<matplotlib.figure.Figure at 0x10cf4f4d0>"
      ]
     },
     "metadata": {},
     "output_type": "display_data"
    }
   ],
   "source": [
    "bins = np.arange(10, 99, 10)\n",
    "df.age_day.groupby(pd.cut(df.age_day, bins)).agg([count_nonzero]).plot(kind='bar')\n",
    "df.age_night.groupby(pd.cut(df.age_night, bins)).agg([count_nonzero]).plot(kind='bar')"
   ]
  },
  {
   "cell_type": "code",
   "execution_count": 36,
   "metadata": {
    "collapsed": false
   },
   "outputs": [
    {
     "name": "stdout",
     "output_type": "stream",
     "text": [
      "          count_nonzero\n",
      "age_day                \n",
      "(10, 20]       0.002924\n",
      "(20, 30]       0.083677\n",
      "(30, 40]       0.098509\n",
      "(40, 50]       0.055049\n",
      "(50, 60]       0.016811\n",
      "(60, 70]       0.002347\n",
      "(70, 80]       0.000101\n",
      "(80, 90]       0.000000\n"
     ]
    },
    {
     "data": {
      "text/plain": [
       "<matplotlib.legend.Legend at 0x10d765290>"
      ]
     },
     "execution_count": 36,
     "metadata": {},
     "output_type": "execute_result"
    },
    {
     "data": {
      "image/png": "[encoded data removed]",
      "text/plain": [
       "<matplotlib.figure.Figure at 0x10cd78390>"
      ]
     },
     "metadata": {},
     "output_type": "display_data"
    }
   ],
   "source": [
    "#print df.ageS, df.ageS.cumsum()\n",
    "\n",
    "cs_D=df.age_day.groupby(pd.cut(df.age_day, bins)).agg([count_nonzero]).cumsum()\n",
    "\n",
    "cs_N=df.age_night.groupby(pd.cut(df.age_night, bins)).agg([count_nonzero]).cumsum()\n",
    "\n",
    "print np.abs(cs_D / cs_D.max()-cs_N / cs_N.max())\n",
    "\n",
    "pl.plot(bins[:-1] + 5, cs_D / cs_D.max(), label = \"Day Trip\")\n",
    "pl.plot(bins[:-1] + 5, cs_N / cs_N.max(), label = \"Night Trip\")\n",
    "pl.legend()"
   ]
  },
  {
   "cell_type": "code",
   "execution_count": 38,
   "metadata": {
    "collapsed": false
   },
   "outputs": [
    {
     "name": "stdout",
     "output_type": "stream",
     "text": [
      "(0.10727215712919941, 0.0)\n"
     ]
    }
   ],
   "source": [
    "import scipy.stats\n",
    "ks = scipy.stats.ks_2samp(df.age_day.dropna(), df.age_night.dropna())\n",
    "print ks"
   ]
  },
  {
   "cell_type": "code",
   "execution_count": 39,
   "metadata": {
    "collapsed": false
   },
   "outputs": [
    {
     "name": "stdout",
     "output_type": "stream",
     "text": [
      "601497\n",
      "303814\n"
     ]
    }
   ],
   "source": [
    "#The Pearson's test and tell me what you find\n",
    "df_clean_day = df.age_day.dropna()\n",
    "df_clean_night = df.age_night.dropna()\n",
    "\n",
    "print len(df_clean_day)\n",
    "print len(df_clean_night)"
   ]
  },
  {
   "cell_type": "code",
   "execution_count": 41,
   "metadata": {
    "collapsed": false
   },
   "outputs": [
    {
     "name": "stdout",
     "output_type": "stream",
     "text": [
      "(-0.00075695204120540733, 0.6765136947214565)\n"
     ]
    }
   ],
   "source": [
    "# Perform the Pearson's test:\n",
    "df_clean_day = np.random.choice(df_clean_day,len(df_clean_night),replace=False)\n",
    "pearsonr= scipy.stats.pearsonr(df_clean_day, df_clean_night)\n",
    "print pearsonr"
   ]
  },
  {
   "cell_type": "code",
   "execution_count": null,
   "metadata": {
    "collapsed": true
   },
   "outputs": [],
   "source": [
    "# Perform the Spearman's test:\n",
    "spearman = scipy.stats.spearmanr(df_clean_night, df_clean_day)\n",
    "print spearman"
   ]
  }
 ],
 "metadata": {
  "kernelspec": {
   "display_name": "Python 2",
   "language": "python",
   "name": "python2"
  }
 },
 "nbformat": 4,
 "nbformat_minor": 0
}
